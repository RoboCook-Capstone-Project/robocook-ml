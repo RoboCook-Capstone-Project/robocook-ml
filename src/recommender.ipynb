{
 "cells": [
  {
   "cell_type": "code",
   "execution_count": null,
   "metadata": {},
   "outputs": [],
   "source": [
    "import pandas as pd \n",
    "import numpy as np\n",
    "import random\n",
    "from sklearn.feature_extraction.text import TfidfVectorizer\n",
    "from sklearn.metrics.pairwise import linear_kernel"
   ]
  },
  {
   "cell_type": "code",
   "execution_count": null,
   "metadata": {},
   "outputs": [],
   "source": [
    "# Load dataset\n",
    "df = pd.read_csv('../data/final/final_dataset.csv')"
   ]
  },
  {
   "cell_type": "code",
   "execution_count": null,
   "metadata": {},
   "outputs": [],
   "source": [
    "df['Ingredients'] = df['Ingredients'].fillna('')"
   ]
  },
  {
   "cell_type": "code",
   "execution_count": null,
   "metadata": {},
   "outputs": [],
   "source": [
    "def custom_tokenizer(text):\n",
    "    return text.split(\"--\")"
   ]
  },
  {
   "cell_type": "code",
   "execution_count": null,
   "metadata": {},
   "outputs": [],
   "source": [
    "# Create TF-IDF vectorizer\n",
    "tfidf_vectorizer = TfidfVectorizer(tokenizer=custom_tokenizer)\n",
    "tfidf_matrix = tfidf_vectorizer.fit_transform(df['Ingredients'])"
   ]
  },
  {
   "cell_type": "code",
   "execution_count": null,
   "metadata": {},
   "outputs": [],
   "source": [
    "# Get ID recommendations\n",
    "def get_recommendations(recipe_id):\n",
    "    idx = df[df['id'] == recipe_id].index[0]\n",
    "    cosine_similarities = linear_kernel(tfidf_matrix[idx], tfidf_matrix).flatten()\n",
    "    similar_indices = cosine_similarities.argsort()[:-1][::-1]\n",
    "    filtered_indices = [i for i in similar_indices if not np.isclose(cosine_similarities[i], 1.0).any()] # Filter out same recipes\n",
    "    similar_recipes = [(df.loc[i, 'id'], df.loc[i, 'Title'], df.loc[i, 'Ingredients'], cosine_similarities[i]) for i in filtered_indices]\n",
    "    return similar_recipes"
   ]
  },
  {
   "cell_type": "code",
   "execution_count": null,
   "metadata": {},
   "outputs": [],
   "source": [
    "def get_ingredients(recipe_id):\n",
    "    recipe_row = df[df['id'] == recipe_id]\n",
    "    if not recipe_row.empty:\n",
    "        title = recipe_row['Title'].values[0]\n",
    "        ingredients = recipe_row['Ingredients'].values[0]\n",
    "        return title, ingredients"
   ]
  },
  {
   "cell_type": "code",
   "execution_count": null,
   "metadata": {},
   "outputs": [],
   "source": [
    "# Code Testing \n",
    "recipe_id_1 = random.randint(1, 2060) # Ayam\n",
    "recipe_id_2 = random.randint(2061, 3848) # Ikan\n",
    "recipe_id_3 = random.randint(3849, 6110) # Kambing\n",
    "recipe_id_4 = random.randint(6111, 8180) # Sapi\n",
    "recipe_id_5 = random.randint(8181, 10209) # Tahu\n",
    "recipe_id_6 = random.randint(10210, 12242) # Telur\n",
    "recipe_id_7 = random.randint(12243, 14306) # Tempe\n",
    "recipe_id_8 = random.randint(14307, 15641) # Udang\n",
    "\n",
    "recipes = [recipe_id_1, recipe_id_2, recipe_id_3, recipe_id_4, recipe_id_5, recipe_id_6, recipe_id_7, recipe_id_8]\n",
    "\n",
    "for r in recipes: \n",
    "    recommendations = get_recommendations(r)\n",
    "    print(r)\n",
    "    title, recipe = get_ingredients(r)\n",
    "    print(f\"Title: {title}\")\n",
    "    print(f\"Ingredients: {recipe}\")\n",
    "    print(\"----- Recommended Dish -----\")\n",
    "    for recipe_id, title, ingredients, cosine_similarity in recommendations[:5]:\n",
    "        print(f\"Recipe ID: {recipe_id}\\nTitle: {title}\\nIngredients: {ingredients}\\nCosine Similarity: {cosine_similarity}\")\n",
    "    print(\"----- -----\")\n"
   ]
  }
 ],
 "metadata": {
  "kernelspec": {
   "display_name": "Python 3",
   "language": "python",
   "name": "python3"
  },
  "language_info": {
   "codemirror_mode": {
    "name": "ipython",
    "version": 3
   },
   "file_extension": ".py",
   "mimetype": "text/x-python",
   "name": "python",
   "nbconvert_exporter": "python",
   "pygments_lexer": "ipython3",
   "version": "3.9.0"
  }
 },
 "nbformat": 4,
 "nbformat_minor": 2
}
